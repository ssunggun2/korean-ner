{
 "cells": [
  {
   "cell_type": "code",
   "execution_count": 1,
   "metadata": {},
   "outputs": [
    {
     "name": "stderr",
     "output_type": "stream",
     "text": [
      "C:\\Users\\USER\\anaconda3\\envs\\env\\lib\\site-packages\\numpy\\_distributor_init.py:32: UserWarning: loaded more than 1 DLL from .libs:\n",
      "C:\\Users\\USER\\anaconda3\\envs\\env\\lib\\site-packages\\numpy\\.libs\\libopenblas.PYQHXLVVQ7VESDPUVUADXEVJOBGHJPAY.gfortran-win_amd64.dll\n",
      "C:\\Users\\USER\\anaconda3\\envs\\env\\lib\\site-packages\\numpy\\.libs\\libopenblas.TXA6YQSD3GCQQC22GEQ54J2UDCXDXHWN.gfortran-win_amd64.dll\n",
      "C:\\Users\\USER\\anaconda3\\envs\\env\\lib\\site-packages\\numpy\\.libs\\libopenblas.XWYDX2IKJW2NMTWSFYNGFUWKQU3LYTCZ.gfortran-win_amd64.dll\n",
      "  stacklevel=1)\n"
     ]
    }
   ],
   "source": [
    "import argparse\n",
    "\n",
    "from ML_trainer import Trainer\n",
    "from ML_utils import init_logger, build_vocab, download_w2v\n",
    "from ML_dataloader import load_examples"
   ]
  },
  {
   "cell_type": "code",
   "execution_count": null,
   "metadata": {},
   "outputs": [],
   "source": [
    "def main(args):\n",
    "    init_logger()\n",
    "    if not args.no_w2v:\n",
    "        download_w2v(args)\n",
    "    build_vocab(args)\n",
    "\n",
    "    train_dataset = load_examples(args, mode=\"train\")\n",
    "    dev_dataset = None\n",
    "    test_dataset = load_examples(args, mode=\"test\")\n",
    "\n",
    "    trainer = Trainer(args, train_dataset, dev_dataset, test_dataset)\n",
    "\n",
    "    if args.do_train:\n",
    "        trainer.train()\n",
    "\n",
    "    if args.do_eval:\n",
    "        trainer.load_model()\n",
    "        trainer.evaluate(\"test\", \"eval\")"
   ]
  },
  {
   "cell_type": "code",
   "execution_count": null,
   "metadata": {},
   "outputs": [],
   "source": [
    "if __name__ == '__main__':\n",
    "    parser = argparse.ArgumentParser()\n",
    "\n",
    "    parser.add_argument(\"--data_dir\", default=\"./data\", type=str, help=\"The input data dir\")\n",
    "    parser.add_argument(\"--model_dir\", default=\"./model\", type=str, help=\"Path for saving model\")\n",
    "    parser.add_argument(\"--wordvec_dir\", default=\"C:/Users/USER/Desktop/workspace/test/korean-ner/wordvec\", type=str, help=\"Path for pretrained word vector\")\n",
    "    parser.add_argument(\"--vocab_dir\", default=\"./vocab\", type=str)\n",
    "    parser.add_argument(\"--pred_dir\", default=\"./preds\", type=str, help=\"The prediction file dir\")\n",
    "\n",
    "    parser.add_argument(\"--train_file\", default=\"train.tsv\", type=str, help=\"Train file\")\n",
    "    parser.add_argument(\"--test_file\", default=\"test.tsv\", type=str, help=\"Test file\")\n",
    "    parser.add_argument(\"--label_file\", default=\"label.txt\", type=str, help=\"Label file\")\n",
    "    parser.add_argument(\"--w2v_file\", default=\"word_vector_300d.vec\", type=str, help=\"Pretrained word vector file\")\n",
    "    parser.add_argument(\"--write_pred\", action=\"store_true\", help=\"Write prediction during evaluation\")\n",
    "\n",
    "    parser.add_argument(\"--max_seq_len\", default=50, type=int, help=\"Max sentence length\")\n",
    "    parser.add_argument(\"--max_word_len\", default=10, type=int, help=\"Max word length\")\n",
    "    parser.add_argument(\"--word_vocab_size\", default=100000, type=int, help=\"Maximum size of word vocabulary\")\n",
    "    parser.add_argument(\"--char_vocab_size\", default=1000, type=int, help=\"Maximum size of character vocabulary\")\n",
    "\n",
    "    parser.add_argument(\"--word_emb_dim\", default=300, type=int, help=\"Word embedding size\")\n",
    "    parser.add_argument(\"--char_emb_dim\", default=30, type=int, help=\"Character embedding size\")\n",
    "    parser.add_argument(\"--final_char_dim\", default=50, type=int, help=\"Dimension of character cnn output\")\n",
    "    parser.add_argument(\"--hidden_dim\", default=350, type=int, help=\"Dimension of BiLSTM output\")\n",
    "\n",
    "    parser.add_argument(\"--kernel_lst\", default=\"2,3,4\", type=str, help=\"kernel size for character cnn\")\n",
    "    parser.add_argument(\"--num_filters\", default=32, type=int, help=\" Number of filters for character cnn\")\n",
    "\n",
    "    parser.add_argument('--seed', type=int, default=42, help=\"random seed for initialization\")\n",
    "    parser.add_argument(\"--train_batch_size\", default=64, type=int, help=\"Batch size for training\")\n",
    "    parser.add_argument(\"--eval_batch_size\", default=128, type=int, help=\"Batch size for evaluation\")\n",
    "    parser.add_argument(\"--learning_rate\", default=0.005, type=float, help=\"The initial learning rate\")\n",
    "    parser.add_argument(\"--num_train_epochs\", default=15.0, type=float, help=\"Total number of training epochs to perform.\")\n",
    "    parser.add_argument(\"--slot_pad_label\", default=\"PAD\", type=str, help=\"Pad token for slot label pad (to be ignore when calculate loss)\")\n",
    "    parser.add_argument(\"--ignore_index\", default=0, type=int,\n",
    "                        help='Specifies a target value that is ignored and does not contribute to the input gradient')\n",
    "\n",
    "    parser.add_argument('--logging_steps', type=int, default=1200, help=\"Log every X updates steps.\")\n",
    "    parser.add_argument('--save_steps', type=int, default=1200, help=\"Save checkpoint every X updates steps.\")\n",
    "\n",
    "    parser.add_argument(\"--do_train\", action=\"store_true\", help=\"Whether to run training.\")\n",
    "    parser.add_argument(\"--do_eval\", action=\"store_true\", help=\"Whether to run eval on the test set.\")\n",
    "    parser.add_argument(\"--no_cuda\", action=\"store_true\", help=\"Avoid using CUDA when available\")\n",
    "    parser.add_argument(\"--no_w2v\", action=\"store_true\", help=\"Not loading pretrained word vector\")\n",
    "\n",
    "    args = parser.parse_args(args=[])\n",
    "\n",
    "\n",
    "    main(args)\n"
   ]
  },
  {
   "cell_type": "code",
   "execution_count": null,
   "metadata": {},
   "outputs": [],
   "source": [
    "\"\""
   ]
  }
 ],
 "metadata": {
  "interpreter": {
   "hash": "4a44d44f71612b50f5c792a4f57cb373375893a6c1b3e54652410687066e7861"
  },
  "kernelspec": {
   "display_name": "Python 3.7.10 ('env')",
   "language": "python",
   "name": "python3"
  },
  "language_info": {
   "codemirror_mode": {
    "name": "ipython",
    "version": 3
   },
   "file_extension": ".py",
   "mimetype": "text/x-python",
   "name": "python",
   "nbconvert_exporter": "python",
   "pygments_lexer": "ipython3",
   "version": "3.7.10"
  },
  "orig_nbformat": 4
 },
 "nbformat": 4,
 "nbformat_minor": 2
}
