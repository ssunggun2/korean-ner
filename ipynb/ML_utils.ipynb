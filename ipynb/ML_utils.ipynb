{
 "cells": [
  {
   "cell_type": "code",
   "execution_count": 17,
   "metadata": {},
   "outputs": [],
   "source": [
    "import os\n",
    "import torch\n",
    "import gdown\n",
    "import random\n",
    "import logging\n",
    "import numpy as np\n",
    "from collections import Counter\n",
    "from seqeval.metrics import precision_score, recall_score, f1_score, classification_report"
   ]
  },
  {
   "cell_type": "code",
   "execution_count": 3,
   "metadata": {},
   "outputs": [],
   "source": [
    "logger = logging.getLogger(__name__)"
   ]
  },
  {
   "cell_type": "code",
   "execution_count": null,
   "metadata": {},
   "outputs": [],
   "source": [
    "def get_test_texts(args):\n",
    "    texts = []\n",
    "    with open(os.path.join(args.data_dir, args.test_file), 'r', encoding='utf-8') as f:\n",
    "        for line in f:\n",
    "            text, _ = line.split('\\t')\n",
    "            text = text.split()\n",
    "            texts.append(text)\n",
    "\n",
    "    return texts"
   ]
  },
  {
   "cell_type": "markdown",
   "metadata": {},
   "source": [
    "build_vocab"
   ]
  },
  {
   "cell_type": "code",
   "execution_count": 7,
   "metadata": {},
   "outputs": [
    {
     "name": "stderr",
     "output_type": "stream",
     "text": [
      "01/21/2022 16:42:36 - INFO - __main__ -   Total word vocabulary size: 307250\n",
      "01/21/2022 16:42:36 - INFO - __main__ -   Total char vocabulary size: 2163\n",
      "01/21/2022 16:42:36 - INFO - __main__ -   args.word_vocab_size: 307250\n",
      "01/21/2022 16:42:36 - INFO - __main__ -   args.char_vocab_size: 2163\n"
     ]
    }
   ],
   "source": [
    "def build_vocab(args):\n",
    "\n",
    "    # load data & split sentence, ner_tag\n",
    "    sentences , ner_tags = [], []\n",
    "    with open(os.path.join(args.data_dir,args.data_name), 'r', encoding='utf-8') as f:\n",
    "        document = f.readlines()\n",
    "        for line in document:\n",
    "            sentence , ner_tag = line.split('\\t')\n",
    "            sentences.append(sentence)\n",
    "            ner_tags.append(ner_tag)\n",
    "\n",
    "    # total word, char list 만들기\n",
    "    total_word , total_char = [], [] \n",
    "    for sentence in sentences:\n",
    "        sentence = sentence.split()\n",
    "        for word in sentence:\n",
    "            for char in word:\n",
    "                total_char.append(char)\n",
    "            total_word.append(word)\n",
    "\n",
    "    # vocab_dir  만들기\n",
    "    if not os.path.exists(args.vocab_dir):\n",
    "        os.makedirs(args.vocab_dir)\n",
    "\n",
    "    # build vocab (word, char)\n",
    "    word_vocab, char_vocab = [], []\n",
    "\n",
    "    word_vocab_path = os.path.join(args.vocab_dir, \"word_vocab\")\n",
    "    char_vocab_path = os.path.join(args.vocab_dir, \"char_vocab\")\n",
    "\n",
    "    word_counts = Counter(total_word)\n",
    "    word_vocab.append(\"PAD\")\n",
    "    word_vocab.append(\"UNK\")\n",
    "    word_vocab.extend([x[0] for x in word_counts.most_common()])\n",
    "    logger.info(\"Total word vocabulary size: {}\".format(len(word_vocab)))\n",
    "\n",
    "    with open(word_vocab_path, 'w', encoding='utf-8') as f:\n",
    "            for word in word_vocab:\n",
    "                f.write(word + \"\\n\")\n",
    "\n",
    "    char_counts = Counter(total_char)\n",
    "    char_vocab.append(\"PAD\")\n",
    "    char_vocab.append(\"UNK\")\n",
    "    char_vocab.extend([x[0] for x in char_counts.most_common()])\n",
    "    logger.info(\"Total char vocabulary size: {}\".format(len(char_vocab)))\n",
    "\n",
    "    with open(char_vocab_path, 'w', encoding='utf-8') as f:\n",
    "            for char in char_vocab:\n",
    "                f.write(char + \"\\n\")\n",
    "\n",
    "    # Set the exact vocab size\n",
    "    # If the original vocab size is smaller than args.vocab_size, then set args.vocab_size to original one\n",
    "    with open(word_vocab_path, 'r', encoding='utf-8') as f:\n",
    "        word_list = f.readlines()\n",
    "        args.word_vocab_size = min(len(word_list), args.word_vocab_size)\n",
    "\n",
    "    with open(char_vocab_path, 'r', encoding='utf-8') as f:\n",
    "        char_list = f.readlines()\n",
    "        args.char_vocab_size = min(len(char_list), args.char_vocab_size)\n",
    "\n",
    "    logger.info(\"args.word_vocab_size: {}\".format(args.word_vocab_size))\n",
    "    logger.info(\"args.char_vocab_size: {}\".format(args.char_vocab_size))\n"
   ]
  },
  {
   "cell_type": "markdown",
   "metadata": {},
   "source": [
    "load_vocab"
   ]
  },
  {
   "cell_type": "code",
   "execution_count": 8,
   "metadata": {},
   "outputs": [],
   "source": [
    "def load_vocab(args):\n",
    "    word_vocab_path = os.path.join(args.vocab_dir, \"word_vocab\")\n",
    "    char_vocab_path = os.path.join(args.vocab_dir, \"char_vocab\")\n",
    "\n",
    "\n",
    "    if not os.path.exists(word_vocab_path):\n",
    "        logger.warning(\"Please build word vocab first!!!\")\n",
    "        return\n",
    "\n",
    "    if not os.path.exists(char_vocab_path):\n",
    "        logger.warning(\"Please build char vocab first!!!\")\n",
    "        return\n",
    "\n",
    "    word_vocab = {}\n",
    "    word_ids_to_tokens = []\n",
    "\n",
    "    #load word_vocab\n",
    "    with open(word_vocab_path,'r', encoding='utf-8') as f:\n",
    "        word_list = f.readlines()\n",
    "        args.word_vocab_size = min(len(word_list), args.word_vocab_size)\n",
    "\n",
    "        for idx, word in enumerate(word_list[:args.word_vocab_size]):\n",
    "            word = word.strip()\n",
    "            word_vocab[word] = idx\n",
    "            word_ids_to_tokens.append(word) \n",
    "\n",
    "    char_vocab = {}\n",
    "    char_ids_to_tokens = []\n",
    "\n",
    "    #load_char_vocab\n",
    "    with open(char_vocab_path,'r', encoding='utf-8') as f:\n",
    "        char_list = f.readlines()\n",
    "        args.char_vocab_size = min(len(char_list), args.char_vocab_size)\n",
    "\n",
    "        for idx, char in enumerate(char_list[:args.char_vocab_size]):\n",
    "            char = char.strip()\n",
    "            char_vocab[char] = idx\n",
    "            char_ids_to_tokens.append(char) \n",
    "\n",
    "        return word_vocab, word_ids_to_tokens, char_vocab, char_ids_to_tokens"
   ]
  },
  {
   "cell_type": "markdown",
   "metadata": {},
   "source": [
    "get w2v"
   ]
  },
  {
   "cell_type": "code",
   "execution_count": 9,
   "metadata": {},
   "outputs": [],
   "source": [
    "def download_w2v(args):\n",
    "    # \"\"\" Download pretrained word vector \"\"\"\n",
    "    w2v_path = os.path.join(args.wordvec_dir, args.w2v_file)\n",
    "    # Pretrained word vectors\n",
    "    if not os.path.exists(w2v_path):\n",
    "        logger.info(\"Downloading pretrained word vectors...\")\n",
    "        gdown.download(\"https://drive.google.com/uc?id=1YX7yHm5MHZ-Icdm1ZX4X9_wD7UrXexJ-\", w2v_path, quiet=False)"
   ]
  },
  {
   "cell_type": "markdown",
   "metadata": {},
   "source": [
    "get label"
   ]
  },
  {
   "cell_type": "code",
   "execution_count": null,
   "metadata": {},
   "outputs": [],
   "source": [
    "def get_labels(args):\n",
    "    return [label.strip() for label in open(os.path.join(args.data_dir, args.label_file), 'r', encoding='utf-8')]"
   ]
  },
  {
   "cell_type": "code",
   "execution_count": null,
   "metadata": {},
   "outputs": [],
   "source": [
    "def load_label_vocab(args):\n",
    "    label_vocab = dict()\n",
    "    for idx, label in enumerate(get_labels(args)):\n",
    "        label_vocab[label] = idx\n",
    "\n",
    "    return label_vocab"
   ]
  },
  {
   "cell_type": "code",
   "execution_count": null,
   "metadata": {},
   "outputs": [],
   "source": [
    "def init_logger():\n",
    "    logging.basicConfig(format='%(asctime)s - %(levelname)s - %(name)s -   %(message)s',\n",
    "                        datefmt='%m/%d/%Y %H:%M:%S',\n",
    "                        level=logging.INFO)"
   ]
  },
  {
   "cell_type": "code",
   "execution_count": null,
   "metadata": {},
   "outputs": [],
   "source": [
    "def set_seed(args):\n",
    "    random.seed(args.seed)\n",
    "    np.random.seed(args.seed)\n",
    "    torch.manual_seed(args.seed)\n",
    "    if not args.no_cuda and torch.cuda.is_available():\n",
    "        torch.cuda.manual_seed_all(args.seed)"
   ]
  },
  {
   "cell_type": "code",
   "execution_count": null,
   "metadata": {},
   "outputs": [],
   "source": [
    "def compute_metrics(labels, preds):\n",
    "    assert len(preds) == len(labels)\n",
    "    return f1_pre_rec(labels, preds)"
   ]
  },
  {
   "cell_type": "code",
   "execution_count": null,
   "metadata": {},
   "outputs": [],
   "source": [
    "def f1_pre_rec(labels, preds):\n",
    "    return {\n",
    "        \"precision\": precision_score(labels, preds, suffix=True),\n",
    "        \"recall\": recall_score(labels, preds, suffix=True),\n",
    "        \"f1\": f1_score(labels, preds, suffix=True)\n",
    "    }"
   ]
  },
  {
   "cell_type": "code",
   "execution_count": null,
   "metadata": {},
   "outputs": [],
   "source": [
    "def show_report(labels, preds):\n",
    "    return classification_report(labels, preds, suffix=True)"
   ]
  }
 ],
 "metadata": {
  "interpreter": {
   "hash": "4a44d44f71612b50f5c792a4f57cb373375893a6c1b3e54652410687066e7861"
  },
  "kernelspec": {
   "display_name": "Python 3.7.10 64-bit ('env': conda)",
   "language": "python",
   "name": "python3"
  },
  "language_info": {
   "codemirror_mode": {
    "name": "ipython",
    "version": 3
   },
   "file_extension": ".py",
   "mimetype": "text/x-python",
   "name": "python",
   "nbconvert_exporter": "python",
   "pygments_lexer": "ipython3",
   "version": "3.7.10"
  },
  "orig_nbformat": 4
 },
 "nbformat": 4,
 "nbformat_minor": 2
}
