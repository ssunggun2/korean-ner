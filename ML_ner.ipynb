{
 "cells": [
  {
   "cell_type": "code",
   "execution_count": 18,
   "metadata": {},
   "outputs": [],
   "source": [
    "import os\n",
    "import gdown\n",
    "import logging\n",
    "import easydict\n",
    "from collections import Counter"
   ]
  },
  {
   "cell_type": "code",
   "execution_count": 2,
   "metadata": {},
   "outputs": [],
   "source": [
    "logger = logging.getLogger(__name__)"
   ]
  },
  {
   "cell_type": "code",
   "execution_count": 29,
   "metadata": {},
   "outputs": [],
   "source": [
    "args = easydict.EasyDict({\n",
    "    \"data_dir\" : \"C:/Users/USER/Desktop/workspace/practice/korean-ner/data\",\n",
    "    \"data_name\" : \"train.tsv\",\n",
    "    \"vocab_dir\" : \"C:/Users/USER/Desktop/workspace/practice/korean-ner/vocab\",\n",
    "    \"wordvec_dir\" : \"C:/Users/USER/Desktop/workspace/practice/korean-ner/wordvec\",\n",
    "    \"w2v_file\" : \"word_vector_300d.vec\",\n",
    "    \"word_vocab_size\" : 400000,\n",
    "    \"char_vocab_size\" : 400000,\n",
    "\n",
    "})"
   ]
  },
  {
   "cell_type": "markdown",
   "metadata": {},
   "source": [
    "데이터 불러오기"
   ]
  },
  {
   "cell_type": "code",
   "execution_count": 4,
   "metadata": {},
   "outputs": [],
   "source": [
    "def get_data(args):\n",
    "    with open(os.path.join(args.data_dir,args.data_name), 'r', encoding='utf-8') as f:\n",
    "        document = f.readlines()\n",
    "        print(document)"
   ]
  },
  {
   "cell_type": "markdown",
   "metadata": {},
   "source": [
    "build_vocab"
   ]
  },
  {
   "cell_type": "code",
   "execution_count": 5,
   "metadata": {},
   "outputs": [],
   "source": [
    "def build_vocab(args):\n",
    "    \n",
    "    # load data & split sentence, ner_tag\n",
    "    sentences , ner_tags = [], []\n",
    "    with open(os.path.join(args.data_dir,args.data_name), 'r', encoding='utf-8') as f:\n",
    "        document = f.readlines()\n",
    "        for line in document:\n",
    "            sentence , ner_tag = line.split('\\t')\n",
    "            sentences.append(sentence)\n",
    "            ner_tags.append(ner_tag)\n",
    "\n",
    "    # total word, char list 만들기\n",
    "    total_word , total_char = [], [] \n",
    "    for sentence in sentences:\n",
    "        sentence = sentence.split()\n",
    "        for word in sentence:\n",
    "            for char in word:\n",
    "                total_char.append(char)\n",
    "            total_word.append(word)\n",
    "\n",
    "    # vocab_dir  만들기\n",
    "    if not os.path.exists(args.vocab_dir):\n",
    "        os.makedirs(args.vocab_dir)\n",
    "\n",
    "    # build vocab (word, char)\n",
    "    word_vocab, char_vocab = [], []\n",
    "\n",
    "    word_vocab_path = os.path.join(args.vocab_dir, \"word_vocab\")\n",
    "    char_vocab_path = os.path.join(args.vocab_dir, \"char_vocab\")\n",
    "\n",
    "    word_counts = Counter(total_word)\n",
    "    word_vocab.append(\"PAD\")\n",
    "    word_vocab.append(\"UNK\")\n",
    "    word_vocab.extend([x[0] for x in word_counts.most_common()])\n",
    "    logger.info(\"Total word vocabulary size: {}\".format(len(word_vocab)))\n",
    "\n",
    "    with open(word_vocab_path, 'w', encoding='utf-8') as f:\n",
    "            for word in word_vocab:\n",
    "                f.write(word + \"\\n\")\n",
    "\n",
    "    char_counts = Counter(total_char)\n",
    "    char_vocab.append(\"PAD\")\n",
    "    char_vocab.append(\"UNK\")\n",
    "    char_vocab.extend([x[0] for x in char_counts.most_common()])\n",
    "    logger.info(\"Total char vocabulary size: {}\".format(len(char_vocab)))\n",
    "\n",
    "    with open(char_vocab_path, 'w', encoding='utf-8') as f:\n",
    "            for char in char_vocab:\n",
    "                f.write(char + \"\\n\")\n",
    "\n",
    "    # Set the exact vocab size\n",
    "    # If the original vocab size is smaller than args.vocab_size, then set args.vocab_size to original one\n",
    "    with open(word_vocab_path, 'r', encoding='utf-8') as f:\n",
    "        word_list = f.readlines()\n",
    "        args.word_vocab_size = min(len(word_list), args.word_vocab_size)\n",
    "\n",
    "    with open(char_vocab_path, 'r', encoding='utf-8') as f:\n",
    "        char_list = f.readlines()\n",
    "        args.char_vocab_size = min(len(char_list), args.char_vocab_size)\n",
    "\n",
    "    logger.info(\"args.word_vocab_size: {}\".format(args.word_vocab_size))\n",
    "    logger.info(\"args.char_vocab_size: {}\".format(args.char_vocab_size))\n"
   ]
  },
  {
   "cell_type": "markdown",
   "metadata": {},
   "source": [
    "load_vocab"
   ]
  },
  {
   "cell_type": "code",
   "execution_count": 12,
   "metadata": {},
   "outputs": [],
   "source": [
    "def load_vocab(args):\n",
    "    word_vocab_path = os.path.join(args.vocab_dir, \"word_vocab\")\n",
    "    char_vocab_path = os.path.join(args.vocab_dir, \"char_vocab\")\n",
    "\n",
    "\n",
    "    if not os.path.exists(word_vocab_path):\n",
    "        logger.warning(\"Please build word vocab first!!!\")\n",
    "        return\n",
    "\n",
    "    if not os.path.exists(char_vocab_path):\n",
    "        logger.warning(\"Please build char vocab first!!!\")\n",
    "        return\n",
    "\n",
    "    word_vocab = {}\n",
    "    word_ids_to_tokens = []\n",
    "\n",
    "    #load word_vocab\n",
    "    with open(word_vocab_path,'r', encoding='utf-8') as f:\n",
    "        word_list = f.readlines()\n",
    "        args.word_vocab_size = min(len(word_list), args.word_vocab_size)\n",
    "\n",
    "        for idx, word in enumerate(word_list[:args.word_vocab_size]):\n",
    "            word = word.strip()\n",
    "            word_vocab[word] = idx\n",
    "            word_ids_to_tokens.append(word) \n",
    "            # print(word_ids_to_tokens)\n",
    "\n",
    "    char_vocab = {}\n",
    "    char_ids_to_tokens = []\n",
    "\n",
    "    #load_char_vocab\n",
    "    with open(char_vocab_path,'r', encoding='utf-8') as f:\n",
    "        char_list = f.readlines()\n",
    "        args.char_vocab_size = min(len(char_list), args.char_vocab_size)\n",
    "\n",
    "        for idx, char in enumerate(char_list[:args.char_vocab_size]):\n",
    "            char = char.strip()\n",
    "            char_vocab[char] = idx\n",
    "            char_ids_to_tokens.append(char) \n",
    "\n",
    "    return word_vocab, word_ids_to_tokens, char_vocab, char_ids_to_tokens"
   ]
  }
 ],
 "metadata": {
  "interpreter": {
   "hash": "4a44d44f71612b50f5c792a4f57cb373375893a6c1b3e54652410687066e7861"
  },
  "kernelspec": {
   "display_name": "Python 3.7.10 64-bit ('env': conda)",
   "language": "python",
   "name": "python3"
  },
  "language_info": {
   "codemirror_mode": {
    "name": "ipython",
    "version": 3
   },
   "file_extension": ".py",
   "mimetype": "text/x-python",
   "name": "python",
   "nbconvert_exporter": "python",
   "pygments_lexer": "ipython3",
   "version": "3.7.10"
  },
  "orig_nbformat": 4
 },
 "nbformat": 4,
 "nbformat_minor": 2
}
