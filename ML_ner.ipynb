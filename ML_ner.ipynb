{
 "cells": [
  {
   "cell_type": "code",
   "execution_count": 21,
   "metadata": {},
   "outputs": [],
   "source": [
    "import os\n",
    "import torch\n",
    "import gdown\n",
    "import random\n",
    "import logging\n",
    "import easydict\n",
    "import numpy as np\n",
    "from collections import Counter"
   ]
  },
  {
   "cell_type": "code",
   "execution_count": 26,
   "metadata": {},
   "outputs": [],
   "source": [
    "def init_logger():\n",
    "    logging.basicConfig(format='%(asctime)s - %(levelname)s - %(name)s -   %(message)s',\n",
    "                        datefmt='%m/%d/%Y %H:%M:%S',\n",
    "                        level=logging.INFO)"
   ]
  },
  {
   "cell_type": "code",
   "execution_count": 35,
   "metadata": {},
   "outputs": [],
   "source": [
    "logger = logging.getLogger(__name__)"
   ]
  },
  {
   "cell_type": "code",
   "execution_count": null,
   "metadata": {},
   "outputs": [],
   "source": [
    "args = easydict.EasyDict({\n",
    "    \"data_dir\" : \"C:/Users/USER/Desktop/workspace/practice/korean-ner/data\",\n",
    "    \"data_name\" : \"train.tsv\",\n",
    "    \"vocab_dir\" : \"C:/Users/USER/Desktop/workspace/practice/korean-ner/vocab\",\n",
    "    \"wordvec_dir\" : \"C:/Users/USER/Desktop/workspace/test/korean-ner/wordvec\",\n",
    "    \"label_file\" : \"label.txt\",\n",
    "    \"w2v_file\" : \"word_vector_300d.vec\",\n",
    "    \"word_emb_dim\" : 300,\n",
    "    \"word_vocab_size\" : 400000,\n",
    "    \"char_vocab_size\" : 400000,\n",
    "    \"seed\" : 7,\n",
    "\n",
    "})"
   ]
  },
  {
   "cell_type": "markdown",
   "metadata": {},
   "source": [
    "seed 설정"
   ]
  },
  {
   "cell_type": "code",
   "execution_count": 24,
   "metadata": {},
   "outputs": [],
   "source": [
    "def set_seed(args):\n",
    "    random.seed(args.seed)\n",
    "    np.random.seed(args.seed)\n",
    "    torch.manual_seed(args.seed)\n",
    "    if not args.no_cuda and torch.cuda.is_available():\n",
    "        torch.cuda.manual_seed_all(args.seed)"
   ]
  },
  {
   "cell_type": "markdown",
   "metadata": {},
   "source": [
    "데이터 불러오기"
   ]
  },
  {
   "cell_type": "code",
   "execution_count": 4,
   "metadata": {},
   "outputs": [],
   "source": [
    "def get_data(args):\n",
    "    with open(os.path.join(args.data_dir,args.data_name), 'r', encoding='utf-8') as f:\n",
    "        document = f.readlines()\n",
    "        print(document)"
   ]
  },
  {
   "cell_type": "markdown",
   "metadata": {},
   "source": [
    "build_vocab"
   ]
  },
  {
   "cell_type": "code",
   "execution_count": 5,
   "metadata": {},
   "outputs": [],
   "source": [
    "def build_vocab(args):\n",
    "    \n",
    "    # load data & split sentence, ner_tag\n",
    "    sentences , ner_tags = [], []\n",
    "    with open(os.path.join(args.data_dir,args.data_name), 'r', encoding='utf-8') as f:\n",
    "        document = f.readlines()\n",
    "        for line in document:\n",
    "            sentence , ner_tag = line.split('\\t')\n",
    "            sentences.append(sentence)\n",
    "            ner_tags.append(ner_tag)\n",
    "\n",
    "    # total word, char list 만들기\n",
    "    total_word , total_char = [], [] \n",
    "    for sentence in sentences:\n",
    "        sentence = sentence.split()\n",
    "        for word in sentence:\n",
    "            for char in word:\n",
    "                total_char.append(char)\n",
    "            total_word.append(word)\n",
    "\n",
    "    # vocab_dir  만들기\n",
    "    if not os.path.exists(args.vocab_dir):\n",
    "        os.makedirs(args.vocab_dir)\n",
    "\n",
    "    # build vocab (word, char)\n",
    "    word_vocab, char_vocab = [], []\n",
    "\n",
    "    word_vocab_path = os.path.join(args.vocab_dir, \"word_vocab\")\n",
    "    char_vocab_path = os.path.join(args.vocab_dir, \"char_vocab\")\n",
    "\n",
    "    word_counts = Counter(total_word)\n",
    "    word_vocab.append(\"PAD\")\n",
    "    word_vocab.append(\"UNK\")\n",
    "    word_vocab.extend([x[0] for x in word_counts.most_common()])\n",
    "    logger.info(\"Total word vocabulary size: {}\".format(len(word_vocab)))\n",
    "\n",
    "    with open(word_vocab_path, 'w', encoding='utf-8') as f:\n",
    "            for word in word_vocab:\n",
    "                f.write(word + \"\\n\")\n",
    "\n",
    "    char_counts = Counter(total_char)\n",
    "    char_vocab.append(\"PAD\")\n",
    "    char_vocab.append(\"UNK\")\n",
    "    char_vocab.extend([x[0] for x in char_counts.most_common()])\n",
    "    logger.info(\"Total char vocabulary size: {}\".format(len(char_vocab)))\n",
    "\n",
    "    with open(char_vocab_path, 'w', encoding='utf-8') as f:\n",
    "            for char in char_vocab:\n",
    "                f.write(char + \"\\n\")\n",
    "\n",
    "    # Set the exact vocab size\n",
    "    # If the original vocab size is smaller than args.vocab_size, then set args.vocab_size to original one\n",
    "    with open(word_vocab_path, 'r', encoding='utf-8') as f:\n",
    "        word_list = f.readlines()\n",
    "        args.word_vocab_size = min(len(word_list), args.word_vocab_size)\n",
    "\n",
    "    with open(char_vocab_path, 'r', encoding='utf-8') as f:\n",
    "        char_list = f.readlines()\n",
    "        args.char_vocab_size = min(len(char_list), args.char_vocab_size)\n",
    "\n",
    "    logger.info(\"args.word_vocab_size: {}\".format(args.word_vocab_size))\n",
    "    logger.info(\"args.char_vocab_size: {}\".format(args.char_vocab_size))\n"
   ]
  },
  {
   "cell_type": "markdown",
   "metadata": {},
   "source": [
    "load_vocab"
   ]
  },
  {
   "cell_type": "code",
   "execution_count": 7,
   "metadata": {},
   "outputs": [],
   "source": [
    "def load_vocab(args):\n",
    "    word_vocab_path = os.path.join(args.vocab_dir, \"word_vocab\")\n",
    "    char_vocab_path = os.path.join(args.vocab_dir, \"char_vocab\")\n",
    "\n",
    "\n",
    "    if not os.path.exists(word_vocab_path):\n",
    "        logger.warning(\"Please build word vocab first!!!\")\n",
    "        return\n",
    "\n",
    "    if not os.path.exists(char_vocab_path):\n",
    "        logger.warning(\"Please build char vocab first!!!\")\n",
    "        return\n",
    "\n",
    "    word_vocab = {}\n",
    "    word_ids_to_tokens = []\n",
    "\n",
    "    #load word_vocab\n",
    "    with open(word_vocab_path,'r', encoding='utf-8') as f:\n",
    "        word_list = f.readlines()\n",
    "        args.word_vocab_size = min(len(word_list), args.word_vocab_size)\n",
    "\n",
    "        for idx, word in enumerate(word_list[:args.word_vocab_size]):\n",
    "            word = word.strip()\n",
    "            word_vocab[word] = idx\n",
    "            word_ids_to_tokens.append(word) \n",
    "            # print(word_ids_to_tokens)\n",
    "\n",
    "    char_vocab = {}\n",
    "    char_ids_to_tokens = []\n",
    "\n",
    "    #load_char_vocab\n",
    "    with open(char_vocab_path,'r', encoding='utf-8') as f:\n",
    "        char_list = f.readlines()\n",
    "        args.char_vocab_size = min(len(char_list), args.char_vocab_size)\n",
    "\n",
    "        for idx, char in enumerate(char_list[:args.char_vocab_size]):\n",
    "            char = char.strip()\n",
    "            char_vocab[char] = idx\n",
    "            char_ids_to_tokens.append(char) \n",
    "\n",
    "    return word_vocab, word_ids_to_tokens, char_vocab, char_ids_to_tokens"
   ]
  },
  {
   "cell_type": "markdown",
   "metadata": {},
   "source": [
    "get w2v"
   ]
  },
  {
   "cell_type": "code",
   "execution_count": 25,
   "metadata": {},
   "outputs": [],
   "source": [
    "def download_w2v(args):\n",
    "    # \"\"\" Download pretrained word vector \"\"\"\n",
    "    w2v_path = os.path.join(args.wordvec_dir, args.w2v_file)\n",
    "    # Pretrained word vectors\n",
    "    if not os.path.exists(w2v_path):\n",
    "        logger.info(\"Downloading pretrained word vectors...\")\n",
    "        gdown.download(\"https://drive.google.com/uc?id=1YX7yHm5MHZ-Icdm1ZX4X9_wD7UrXexJ-\", w2v_path, quiet=False)"
   ]
  },
  {
   "cell_type": "markdown",
   "metadata": {},
   "source": [
    "get label"
   ]
  },
  {
   "cell_type": "code",
   "execution_count": 28,
   "metadata": {},
   "outputs": [],
   "source": [
    "def get_labels(args):\n",
    "    return [label.strip() for label in open(os.path.join(args.data_dir, args.label_file), 'r', encoding='utf-8')]"
   ]
  },
  {
   "cell_type": "markdown",
   "metadata": {},
   "source": [
    "load word matrix"
   ]
  },
  {
   "cell_type": "code",
   "execution_count": null,
   "metadata": {},
   "outputs": [
    {
     "ename": "TypeError",
     "evalue": "'str' object cannot be interpreted as an integer",
     "output_type": "error",
     "traceback": [
      "\u001b[1;31m---------------------------------------------------------------------------\u001b[0m",
      "\u001b[1;31mTypeError\u001b[0m                                 Traceback (most recent call last)",
      "\u001b[1;32m<ipython-input-53-17fc468981a0>\u001b[0m in \u001b[0;36m<module>\u001b[1;34m\u001b[0m\n\u001b[0;32m     12\u001b[0m         \u001b[0membedding_index\u001b[0m\u001b[1;33m[\u001b[0m\u001b[0mtokens\u001b[0m\u001b[1;33m[\u001b[0m\u001b[1;36m0\u001b[0m\u001b[1;33m]\u001b[0m\u001b[1;33m]\u001b[0m \u001b[1;33m=\u001b[0m \u001b[0mlist\u001b[0m\u001b[1;33m(\u001b[0m\u001b[0mmap\u001b[0m\u001b[1;33m(\u001b[0m\u001b[0mfloat\u001b[0m\u001b[1;33m,\u001b[0m \u001b[0mtokens\u001b[0m\u001b[1;33m[\u001b[0m\u001b[1;36m1\u001b[0m\u001b[1;33m:\u001b[0m\u001b[1;33m]\u001b[0m\u001b[1;33m)\u001b[0m\u001b[1;33m)\u001b[0m\u001b[1;33m\u001b[0m\u001b[1;33m\u001b[0m\u001b[0m\n\u001b[0;32m     13\u001b[0m \u001b[1;33m\u001b[0m\u001b[0m\n\u001b[1;32m---> 14\u001b[1;33m \u001b[0mword_matrix\u001b[0m \u001b[1;33m=\u001b[0m \u001b[0mnp\u001b[0m\u001b[1;33m.\u001b[0m\u001b[0mzeros\u001b[0m\u001b[1;33m(\u001b[0m\u001b[1;33m(\u001b[0m\u001b[0margs\u001b[0m\u001b[1;33m.\u001b[0m\u001b[0mword_vocab_size\u001b[0m\u001b[1;33m,\u001b[0m \u001b[0margs\u001b[0m\u001b[1;33m.\u001b[0m\u001b[0mword_emb_dim\u001b[0m\u001b[1;33m)\u001b[0m\u001b[1;33m,\u001b[0m \u001b[0mdtype\u001b[0m\u001b[1;33m=\u001b[0m\u001b[1;34m'float32'\u001b[0m\u001b[1;33m)\u001b[0m\u001b[1;33m\u001b[0m\u001b[1;33m\u001b[0m\u001b[0m\n\u001b[0m",
      "\u001b[1;31mTypeError\u001b[0m: 'str' object cannot be interpreted as an integer"
     ]
    }
   ],
   "source": [
    "# def load_word_matrix(args, word_vocab):\n",
    "if not os.path.exists(args.wordvec_dir):\n",
    "    os.makedirs(args.wordvec_dir)\n",
    "\n",
    " # Making new word vector (as list type)\n",
    "logger.info(\"Building word matrix...\")\n",
    "embedding_index = dict()\n",
    "with open(os.path.join(args.wordvec_dir, args.w2v_file), 'r', encoding='utf-8') as f:\n",
    "    lines = f.readlines()\n",
    "    for line in lines:\n",
    "        tokens = line.rstrip().split(' ')\n",
    "        embedding_index[tokens[0]] = list(map(float, tokens[1:]))\n",
    "\n",
    "word_matrix = np.zeros((args.word_vocab_size, args.word_emb_dim), dtype='float32')\n"
   ]
  },
  {
   "cell_type": "code",
   "execution_count": null,
   "metadata": {},
   "outputs": [],
   "source": [
    "word_matrix"
   ]
  },
  {
   "cell_type": "code",
   "execution_count": 50,
   "metadata": {},
   "outputs": [],
   "source": [
    "# embedding_index"
   ]
  },
  {
   "cell_type": "code",
   "execution_count": 45,
   "metadata": {},
   "outputs": [],
   "source": [
    "# tokens[:10]"
   ]
  },
  {
   "cell_type": "code",
   "execution_count": 27,
   "metadata": {},
   "outputs": [],
   "source": []
  },
  {
   "cell_type": "code",
   "execution_count": null,
   "metadata": {},
   "outputs": [],
   "source": []
  }
 ],
 "metadata": {
  "interpreter": {
   "hash": "4a44d44f71612b50f5c792a4f57cb373375893a6c1b3e54652410687066e7861"
  },
  "kernelspec": {
   "display_name": "Python 3.7.10 64-bit ('env': conda)",
   "language": "python",
   "name": "python3"
  },
  "language_info": {
   "codemirror_mode": {
    "name": "ipython",
    "version": 3
   },
   "file_extension": ".py",
   "mimetype": "text/x-python",
   "name": "python",
   "nbconvert_exporter": "python",
   "pygments_lexer": "ipython3",
   "version": "3.7.10"
  },
  "orig_nbformat": 4
 },
 "nbformat": 4,
 "nbformat_minor": 2
}
