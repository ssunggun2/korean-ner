{
 "cells": [
  {
   "cell_type": "code",
   "execution_count": 1,
   "metadata": {},
   "outputs": [
    {
     "name": "stderr",
     "output_type": "stream",
     "text": [
      "C:\\Users\\USER\\anaconda3\\envs\\env\\lib\\site-packages\\numpy\\_distributor_init.py:32: UserWarning: loaded more than 1 DLL from .libs:\n",
      "C:\\Users\\USER\\anaconda3\\envs\\env\\lib\\site-packages\\numpy\\.libs\\libopenblas.PYQHXLVVQ7VESDPUVUADXEVJOBGHJPAY.gfortran-win_amd64.dll\n",
      "C:\\Users\\USER\\anaconda3\\envs\\env\\lib\\site-packages\\numpy\\.libs\\libopenblas.TXA6YQSD3GCQQC22GEQ54J2UDCXDXHWN.gfortran-win_amd64.dll\n",
      "C:\\Users\\USER\\anaconda3\\envs\\env\\lib\\site-packages\\numpy\\.libs\\libopenblas.XWYDX2IKJW2NMTWSFYNGFUWKQU3LYTCZ.gfortran-win_amd64.dll\n",
      "  stacklevel=1)\n"
     ]
    }
   ],
   "source": [
    "import os\n",
    "import torch\n",
    "import gdown\n",
    "import random\n",
    "import logging\n",
    "import easydict\n",
    "import numpy as np\n",
    "from collections import Counter"
   ]
  },
  {
   "cell_type": "code",
   "execution_count": 2,
   "metadata": {},
   "outputs": [],
   "source": [
    "# def init_logger():\n",
    "logging.basicConfig(format='%(asctime)s - %(levelname)s - %(name)s -   %(message)s',\n",
    "                    datefmt='%m/%d/%Y %H:%M:%S',\n",
    "                    level=logging.INFO)"
   ]
  },
  {
   "cell_type": "code",
   "execution_count": 3,
   "metadata": {},
   "outputs": [],
   "source": [
    "logger = logging.getLogger(__name__)"
   ]
  },
  {
   "cell_type": "code",
   "execution_count": 4,
   "metadata": {},
   "outputs": [],
   "source": [
    "args = easydict.EasyDict({\n",
    "    \"data_dir\" : \"C:/Users/USER/Desktop/workspace/practice/korean-ner/data\",\n",
    "    \"data_name\" : \"train.tsv\",\n",
    "    \"vocab_dir\" : \"C:/Users/USER/Desktop/workspace/practice/korean-ner/vocab\",\n",
    "    \"wordvec_dir\" : \"C:/Users/USER/Desktop/workspace/test/korean-ner/wordvec\",\n",
    "    \"label_file\" : \"label.txt\",\n",
    "    \"w2v_file\" : \"word_vector_300d.vec\",\n",
    "    \"word_emb_dim\" : 300,\n",
    "    \"word_vocab_size\" : 400000,\n",
    "    \"char_vocab_size\" : 400000,\n",
    "    \"seed\" : 7,\n",
    "\n",
    "})"
   ]
  },
  {
   "cell_type": "markdown",
   "metadata": {},
   "source": [
    "seed 설정"
   ]
  },
  {
   "cell_type": "code",
   "execution_count": 5,
   "metadata": {},
   "outputs": [],
   "source": [
    "def set_seed(args):\n",
    "    random.seed(args.seed)\n",
    "    np.random.seed(args.seed)\n",
    "    torch.manual_seed(args.seed)\n",
    "    if not args.no_cuda and torch.cuda.is_available():\n",
    "        torch.cuda.manual_seed_all(args.seed)"
   ]
  },
  {
   "cell_type": "markdown",
   "metadata": {},
   "source": [
    "데이터 불러오기"
   ]
  },
  {
   "cell_type": "code",
   "execution_count": 6,
   "metadata": {},
   "outputs": [],
   "source": [
    "# def get_data(args):\n",
    "with open(os.path.join(args.data_dir,args.data_name), 'r', encoding='utf-8') as f:\n",
    "    document = f.readlines()\n",
    "    # print(document)"
   ]
  },
  {
   "cell_type": "markdown",
   "metadata": {},
   "source": [
    "build_vocab"
   ]
  },
  {
   "cell_type": "code",
   "execution_count": 7,
   "metadata": {},
   "outputs": [
    {
     "name": "stderr",
     "output_type": "stream",
     "text": [
      "01/21/2022 16:42:36 - INFO - __main__ -   Total word vocabulary size: 307250\n",
      "01/21/2022 16:42:36 - INFO - __main__ -   Total char vocabulary size: 2163\n",
      "01/21/2022 16:42:36 - INFO - __main__ -   args.word_vocab_size: 307250\n",
      "01/21/2022 16:42:36 - INFO - __main__ -   args.char_vocab_size: 2163\n"
     ]
    }
   ],
   "source": [
    "# def build_vocab(args):\n",
    "\n",
    "# load data & split sentence, ner_tag\n",
    "sentences , ner_tags = [], []\n",
    "with open(os.path.join(args.data_dir,args.data_name), 'r', encoding='utf-8') as f:\n",
    "    document = f.readlines()\n",
    "    for line in document:\n",
    "        sentence , ner_tag = line.split('\\t')\n",
    "        sentences.append(sentence)\n",
    "        ner_tags.append(ner_tag)\n",
    "\n",
    "# total word, char list 만들기\n",
    "total_word , total_char = [], [] \n",
    "for sentence in sentences:\n",
    "    sentence = sentence.split()\n",
    "    for word in sentence:\n",
    "        for char in word:\n",
    "            total_char.append(char)\n",
    "        total_word.append(word)\n",
    "\n",
    "# vocab_dir  만들기\n",
    "if not os.path.exists(args.vocab_dir):\n",
    "    os.makedirs(args.vocab_dir)\n",
    "\n",
    "# build vocab (word, char)\n",
    "word_vocab, char_vocab = [], []\n",
    "\n",
    "word_vocab_path = os.path.join(args.vocab_dir, \"word_vocab\")\n",
    "char_vocab_path = os.path.join(args.vocab_dir, \"char_vocab\")\n",
    "\n",
    "word_counts = Counter(total_word)\n",
    "word_vocab.append(\"PAD\")\n",
    "word_vocab.append(\"UNK\")\n",
    "word_vocab.extend([x[0] for x in word_counts.most_common()])\n",
    "logger.info(\"Total word vocabulary size: {}\".format(len(word_vocab)))\n",
    "\n",
    "with open(word_vocab_path, 'w', encoding='utf-8') as f:\n",
    "        for word in word_vocab:\n",
    "            f.write(word + \"\\n\")\n",
    "\n",
    "char_counts = Counter(total_char)\n",
    "char_vocab.append(\"PAD\")\n",
    "char_vocab.append(\"UNK\")\n",
    "char_vocab.extend([x[0] for x in char_counts.most_common()])\n",
    "logger.info(\"Total char vocabulary size: {}\".format(len(char_vocab)))\n",
    "\n",
    "with open(char_vocab_path, 'w', encoding='utf-8') as f:\n",
    "        for char in char_vocab:\n",
    "            f.write(char + \"\\n\")\n",
    "\n",
    "# Set the exact vocab size\n",
    "# If the original vocab size is smaller than args.vocab_size, then set args.vocab_size to original one\n",
    "with open(word_vocab_path, 'r', encoding='utf-8') as f:\n",
    "    word_list = f.readlines()\n",
    "    args.word_vocab_size = min(len(word_list), args.word_vocab_size)\n",
    "\n",
    "with open(char_vocab_path, 'r', encoding='utf-8') as f:\n",
    "    char_list = f.readlines()\n",
    "    args.char_vocab_size = min(len(char_list), args.char_vocab_size)\n",
    "\n",
    "logger.info(\"args.word_vocab_size: {}\".format(args.word_vocab_size))\n",
    "logger.info(\"args.char_vocab_size: {}\".format(args.char_vocab_size))\n"
   ]
  },
  {
   "cell_type": "markdown",
   "metadata": {},
   "source": [
    "load_vocab"
   ]
  },
  {
   "cell_type": "code",
   "execution_count": 8,
   "metadata": {},
   "outputs": [],
   "source": [
    "# def load_vocab(args):\n",
    "word_vocab_path = os.path.join(args.vocab_dir, \"word_vocab\")\n",
    "char_vocab_path = os.path.join(args.vocab_dir, \"char_vocab\")\n",
    "\n",
    "\n",
    "if not os.path.exists(word_vocab_path):\n",
    "    logger.warning(\"Please build word vocab first!!!\")\n",
    "    # return\n",
    "\n",
    "if not os.path.exists(char_vocab_path):\n",
    "    logger.warning(\"Please build char vocab first!!!\")\n",
    "    # return\n",
    "\n",
    "word_vocab = {}\n",
    "word_ids_to_tokens = []\n",
    "\n",
    "#load word_vocab\n",
    "with open(word_vocab_path,'r', encoding='utf-8') as f:\n",
    "    word_list = f.readlines()\n",
    "    args.word_vocab_size = min(len(word_list), args.word_vocab_size)\n",
    "\n",
    "    for idx, word in enumerate(word_list[:args.word_vocab_size]):\n",
    "        word = word.strip()\n",
    "        word_vocab[word] = idx\n",
    "        word_ids_to_tokens.append(word) \n",
    "        # print(word_ids_to_tokens)\n",
    "\n",
    "char_vocab = {}\n",
    "char_ids_to_tokens = []\n",
    "\n",
    "#load_char_vocab\n",
    "with open(char_vocab_path,'r', encoding='utf-8') as f:\n",
    "    char_list = f.readlines()\n",
    "    args.char_vocab_size = min(len(char_list), args.char_vocab_size)\n",
    "\n",
    "    for idx, char in enumerate(char_list[:args.char_vocab_size]):\n",
    "        char = char.strip()\n",
    "        char_vocab[char] = idx\n",
    "        char_ids_to_tokens.append(char) \n",
    "\n",
    "    # return word_vocab, word_ids_to_tokens, char_vocab, char_ids_to_tokens"
   ]
  },
  {
   "cell_type": "markdown",
   "metadata": {},
   "source": [
    "get w2v"
   ]
  },
  {
   "cell_type": "code",
   "execution_count": 9,
   "metadata": {},
   "outputs": [],
   "source": [
    "# def download_w2v(args):\n",
    "# \"\"\" Download pretrained word vector \"\"\"\n",
    "w2v_path = os.path.join(args.wordvec_dir, args.w2v_file)\n",
    "# Pretrained word vectors\n",
    "if not os.path.exists(w2v_path):\n",
    "    logger.info(\"Downloading pretrained word vectors...\")\n",
    "    gdown.download(\"https://drive.google.com/uc?id=1YX7yHm5MHZ-Icdm1ZX4X9_wD7UrXexJ-\", w2v_path, quiet=False)"
   ]
  },
  {
   "cell_type": "markdown",
   "metadata": {},
   "source": [
    "get label"
   ]
  },
  {
   "cell_type": "code",
   "execution_count": null,
   "metadata": {},
   "outputs": [],
   "source": [
    "# def get_labels(args):\n",
    "    # return [label.strip() for label in open(os.path.join(args.data_dir, args.label_file), 'r', encoding='utf-8')]\n",
    "[label.strip() for label in open(os.path.join(args.data_dir, args.label_file), 'r', encoding='utf-8')]"
   ]
  },
  {
   "cell_type": "markdown",
   "metadata": {},
   "source": [
    "load word matrix"
   ]
  },
  {
   "cell_type": "code",
   "execution_count": 13,
   "metadata": {},
   "outputs": [
    {
     "name": "stderr",
     "output_type": "stream",
     "text": [
      "01/21/2022 16:42:55 - INFO - __main__ -   Building word matrix...\n",
      "01/21/2022 16:43:05 - INFO - __main__ -   170605 words not in pretrained matrix\n"
     ]
    }
   ],
   "source": [
    "# def load_word_matrix(args, word_vocab):\n",
    "if not os.path.exists(args.wordvec_dir):\n",
    "    os.makedirs(args.wordvec_dir)\n",
    "\n",
    " # Making new word vector (as list type)\n",
    "logger.info(\"Building word matrix...\")\n",
    "embedding_index = dict()\n",
    "with open(os.path.join(args.wordvec_dir, args.w2v_file), 'r', encoding='utf-8') as f:\n",
    "    lines = f.readlines()\n",
    "    for line in lines:\n",
    "        tokens = line.rstrip().split(' ')\n",
    "        embedding_index[tokens[0]] = list(map(float, tokens[1:]))\n",
    "\n",
    "word_matrix = np.zeros((args.word_vocab_size, args.word_emb_dim), dtype='float32')\n",
    "cnt = 0\n",
    "\n",
    "for word, i in word_vocab.items():\n",
    "    embedding_vector = embedding_index.get(word)\n",
    "    if embedding_vector is not None:\n",
    "        word_matrix[i] = np.array(embedding_vector, dtype='float32')\n",
    "    else:\n",
    "        word_matrix[i] = np.random.uniform(-0.25, 0.25, args.word_emb_dim)\n",
    "        cnt += 1\n",
    "logger.info(f'{cnt} words not in pretrained matrix')\n",
    "\n",
    "word_matrix = torch.from_numpy(word_matrix)\n",
    "\n",
    "    "
   ]
  },
  {
   "cell_type": "code",
   "execution_count": 14,
   "metadata": {},
   "outputs": [
    {
     "data": {
      "text/plain": [
       "tensor([[-0.0194, -0.1048, -0.0553,  ..., -0.0532,  0.0583,  0.0440],\n",
       "        [ 0.1694,  0.0725, -0.0140,  ...,  0.0984,  0.1729, -0.0920],\n",
       "        [-0.0219,  0.0241,  0.2438,  ..., -0.0234, -0.0474,  0.0429],\n",
       "        ...,\n",
       "        [-0.0749, -0.1652,  0.1287,  ...,  0.0107,  0.2355,  0.0500],\n",
       "        [-0.0524,  0.0196,  0.0448,  ..., -0.0290,  0.0407, -0.0125],\n",
       "        [ 0.1446,  0.0858,  0.1447,  ..., -0.1789,  0.0117, -0.2369]])"
      ]
     },
     "execution_count": 14,
     "metadata": {},
     "output_type": "execute_result"
    }
   ],
   "source": [
    "word_matrix"
   ]
  },
  {
   "cell_type": "code",
   "execution_count": null,
   "metadata": {},
   "outputs": [],
   "source": [
    "# word_matrix"
   ]
  },
  {
   "cell_type": "code",
   "execution_count": null,
   "metadata": {},
   "outputs": [],
   "source": [
    "# embedding_index"
   ]
  },
  {
   "cell_type": "code",
   "execution_count": null,
   "metadata": {},
   "outputs": [],
   "source": [
    "# tokens[:10]"
   ]
  },
  {
   "cell_type": "code",
   "execution_count": null,
   "metadata": {},
   "outputs": [],
   "source": []
  },
  {
   "cell_type": "code",
   "execution_count": null,
   "metadata": {},
   "outputs": [],
   "source": []
  }
 ],
 "metadata": {
  "interpreter": {
   "hash": "4a44d44f71612b50f5c792a4f57cb373375893a6c1b3e54652410687066e7861"
  },
  "kernelspec": {
   "display_name": "Python 3.7.10 64-bit ('env': conda)",
   "language": "python",
   "name": "python3"
  },
  "language_info": {
   "codemirror_mode": {
    "name": "ipython",
    "version": 3
   },
   "file_extension": ".py",
   "mimetype": "text/x-python",
   "name": "python",
   "nbconvert_exporter": "python",
   "pygments_lexer": "ipython3",
   "version": "3.7.10"
  },
  "orig_nbformat": 4
 },
 "nbformat": 4,
 "nbformat_minor": 2
}
